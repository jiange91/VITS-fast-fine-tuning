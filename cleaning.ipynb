{
 "cells": [
  {
   "cell_type": "code",
   "execution_count": 1,
   "id": "cd5bf67b",
   "metadata": {},
   "outputs": [],
   "source": [
    "import wave\n",
    "import contextlib\n",
    "\n",
    "def getDur(fname):\n",
    "    with contextlib.closing(wave.open(fname,'r')) as f:\n",
    "        frames = f.getnframes()\n",
    "        rate = f.getframerate()\n",
    "        duration = frames / float(rate)\n",
    "        return duration"
   ]
  },
  {
   "cell_type": "code",
   "execution_count": 2,
   "id": "eabdf763",
   "metadata": {},
   "outputs": [],
   "source": [
    "import os\n",
    "import shutil"
   ]
  },
  {
   "cell_type": "code",
   "execution_count": 3,
   "id": "8a8e8399",
   "metadata": {},
   "outputs": [
    {
     "data": {
      "text/plain": [
       "13981"
      ]
     },
     "execution_count": 3,
     "metadata": {},
     "output_type": "execute_result"
    }
   ],
   "source": [
    "meta_path = '/home/ubuntu/CSE251B-Final/TTS/recipes/leclec/filtered/metadata.txt'\n",
    "metaf = open(meta_path, 'r')\n",
    "meta = metaf.readlines()\n",
    "metaf.close()\n",
    "len(meta)"
   ]
  },
  {
   "cell_type": "code",
   "execution_count": 8,
   "id": "eae9de90",
   "metadata": {},
   "outputs": [],
   "source": [
    "wav_dir = '/home/ubuntu/CSE251B-Final/TTS/recipes/leclec/filtered/wavs'\n",
    "\n",
    "out_dir = 'Gary'\n",
    "if os.path.exists(out_dir):\n",
    "    os.rmdir(out_dir)\n",
    "    os.makedirs(out_dir)\n",
    "\n",
    "c = 0\n",
    "for f in os.listdir(wav_dir):\n",
    "    d = getDur(os.path.join(wav_dir, f))\n",
    "    if 2.0 <= d <= 10 and c <= 1000:\n",
    "        shutil.copyfile(os.path.join(wav_dir, f), os.path.join(out_dir, f))\n",
    "        c += 1"
   ]
  },
  {
   "cell_type": "code",
   "execution_count": null,
   "id": "bdec83ab",
   "metadata": {},
   "outputs": [],
   "source": []
  }
 ],
 "metadata": {
  "kernelspec": {
   "display_name": "Python 3",
   "language": "python",
   "name": "python3"
  },
  "language_info": {
   "codemirror_mode": {
    "name": "ipython",
    "version": 3
   },
   "file_extension": ".py",
   "mimetype": "text/x-python",
   "name": "python",
   "nbconvert_exporter": "python",
   "pygments_lexer": "ipython3",
   "version": "3.8.10"
  }
 },
 "nbformat": 4,
 "nbformat_minor": 5
}
